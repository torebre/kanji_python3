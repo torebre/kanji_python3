{
 "cells": [
  {
   "cell_type": "code",
   "execution_count": 4,
   "metadata": {},
   "outputs": [
    {
     "data": {
      "text/plain": "<drawSvg.drawing.Drawing at 0x7fac56c329e8>",
      "image/svg+xml": "<?xml version=\"1.0\" encoding=\"UTF-8\"?>\n<svg xmlns=\"http://www.w3.org/2000/svg\" xmlns:xlink=\"http://www.w3.org/1999/xlink\"\n     width=\"310\" height=\"290\" viewBox=\"0 -58 62 58\">\n<defs>\n</defs>\n<path d=\"M61,-47 L9,-38\" stroke=\"white\" />\n<path d=\"M8,-26 L8,-33\" stroke=\"white\" />\n<path d=\"M51,-41 L20,-6\" stroke=\"white\" />\n<path d=\"M33,-62 L7,-23\" stroke=\"white\" />\n<path d=\"M36,-37 L41,-64\" stroke=\"white\" />\n<path d=\"M53,-20 L63,-6\" stroke=\"white\" />\n<path d=\"M60,-33 L36,-43\" stroke=\"white\" />\n<path d=\"M50,-48 L7,-30\" stroke=\"white\" />\n<path d=\"M29,-29 L3,-43\" stroke=\"white\" />\n<path d=\"M1,-33 L11,-36\" stroke=\"white\" />\n<path d=\"M14,-39 L24,-39\" stroke=\"white\" />\n<path d=\"M14,-39 L14,-41\" stroke=\"white\" />\n<path d=\"M14,-41 L24,-41\" stroke=\"white\" />\n<path d=\"M24,-41 L24,-39\" stroke=\"white\" />\n</svg>"
     },
     "execution_count": 4,
     "metadata": {},
     "output_type": "execute_result"
    }
   ],
   "source": [
    "from import_data import import_line_data\n",
    "from visualize.create_line_svg import create_canvas\n",
    "\n",
    "line_data = import_line_data.read_data()\n",
    "\n",
    "line_code = 1\n",
    "\n",
    "is_line_1 = line_data['unicode'] == line_code\n",
    "line_data_1 = line_data[is_line_1]\n",
    "\n",
    "canvas = create_canvas(line_data_1)\n",
    "canvas.setPixelScale(5)\n",
    "\n",
    "canvas"
   ]
  },
  {
   "cell_type": "markdown",
   "metadata": {},
   "source": [
    "Drawing lines\n"
   ]
  },
  {
   "cell_type": "code",
   "execution_count": 7,
   "metadata": {
    "pycharm": {
     "name": "#%%\n"
    }
   },
   "outputs": [
    {
     "name": "stdout",
     "output_type": "stream",
     "text": [
      "Line code:  1\n",
      "Input line:  0 . Other line:  1 . Values:  7.9 2.3 -1.5707963267949\n",
      "Input line:  0 . Other line:  2 . Values:  7.8 2.8 0.0\n",
      "Input line:  0 . Other line:  3 . Values:  7.7 2.3 -1.5707963267948966\n",
      "Input line:  1 . Other line:  0 . Values:  38.5 16.5 1.5707963267949\n",
      "Input line:  1 . Other line:  2 . Values:  38.5 16.5 1.5707963267949\n",
      "Input line:  2 . Other line:  0 . Values:  8.2 2.8 0.0\n",
      "Input line:  2 . Other line:  1 . Values:  8.3 2.3 -1.5707963267949\n",
      "Input line:  2 . Other line:  3 . Values:  8.1 2.3 -1.5707963267948966\n",
      "Input line:  3 . Other line:  0 . Values:  41.5 26.5 1.5707963267948966\n",
      "Input line:  3 . Other line:  2 . Values:  41.5 26.5 1.5707963267948966\n",
      "Cluster relation matrix for  1\n",
      "[[nan  0.  1.  0.]\n",
      " [ 2. nan  2. nan]\n",
      " [ 1.  0. nan  0.]\n",
      " [ 2. nan  2. nan]]\n"
     ]
    }
   ],
   "source": [
    "import numpy as np\n",
    "from import_data.import_data import filter_out_four_last_lines_of_data, transform_selected_lines_to_array, read_relation_data\n",
    "from clustering.dbscan_clustering_test import extract_line_code_map_from_array, \\\n",
    "    extract_rectangle_relation_data_for_line_code, do_dbscan, add_label_data_to_line_code_map\n",
    "\n",
    "line_relation_data = read_relation_data()\n",
    "\n",
    "# The last four lines are the ones that make up a rectangle\n",
    "last_four_lines = filter_out_four_last_lines_of_data(line_relation_data)\n",
    "\n",
    "array_data = transform_selected_lines_to_array(line_relation_data, last_four_lines)\n",
    "line_code_line_id_relation_data_map = extract_line_code_map_from_array(array_data)\n",
    "\n",
    "data_used_for_clustering = array_data[:, 5]\n",
    "dbscan_data = do_dbscan(np.reshape(data_used_for_clustering, (-1, 1)))\n",
    "add_label_data_to_line_code_map(dbscan_data.labels_, array_data, line_code_line_id_relation_data_map)\n",
    "\n",
    "extract_rectangle_relation_data_for_line_code(line_code, line_code_line_id_relation_data_map, last_four_lines)"
   ]
  }
 ],
 "metadata": {
  "kernelspec": {
   "display_name": "Python 3",
   "language": "python",
   "name": "python3"
  },
  "language_info": {
   "codemirror_mode": {
    "name": "ipython",
    "version": 3
   },
   "file_extension": ".py",
   "mimetype": "text/x-python",
   "name": "python",
   "nbconvert_exporter": "python",
   "pygments_lexer": "ipython3",
   "version": "3.6.8"
  }
 },
 "nbformat": 4,
 "nbformat_minor": 1
}