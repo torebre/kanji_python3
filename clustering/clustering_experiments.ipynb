{
 "cells": [
  {
   "cell_type": "code",
   "execution_count": 1,
   "metadata": {},
   "outputs": [
    {
     "data": {
      "image/svg+xml": [
       "<?xml version=\"1.0\" encoding=\"UTF-8\"?>\n",
       "<svg xmlns=\"http://www.w3.org/2000/svg\" xmlns:xlink=\"http://www.w3.org/1999/xlink\"\n",
       "     width=\"310\" height=\"290\" viewBox=\"0 -58 62 58\">\n",
       "<defs>\n",
       "</defs>\n",
       "<path d=\"M61,-47 L9,-38\" stroke=\"white\" />\n",
       "<path d=\"M8,-26 L8,-33\" stroke=\"white\" />\n",
       "<path d=\"M51,-41 L20,-6\" stroke=\"white\" />\n",
       "<path d=\"M33,-62 L7,-23\" stroke=\"white\" />\n",
       "<path d=\"M36,-37 L41,-64\" stroke=\"white\" />\n",
       "<path d=\"M53,-20 L63,-6\" stroke=\"white\" />\n",
       "<path d=\"M60,-33 L36,-43\" stroke=\"white\" />\n",
       "<path d=\"M50,-48 L7,-30\" stroke=\"white\" />\n",
       "<path d=\"M29,-29 L3,-43\" stroke=\"white\" />\n",
       "<path d=\"M1,-33 L11,-36\" stroke=\"white\" />\n",
       "<path d=\"M14,-39 L24,-39\" stroke=\"white\" />\n",
       "<path d=\"M14,-39 L14,-41\" stroke=\"white\" />\n",
       "<path d=\"M14,-41 L24,-41\" stroke=\"white\" />\n",
       "<path d=\"M24,-41 L24,-39\" stroke=\"white\" />\n",
       "</svg>"
      ],
      "text/plain": [
       "<drawSvg.drawing.Drawing at 0x7f6a00a7f860>"
      ]
     },
     "execution_count": 1,
     "metadata": {},
     "output_type": "execute_result"
    }
   ],
   "source": [
    "from import_data import import_line_data\n",
    "from visualize.create_line_svg import create_canvas\n",
    "\n",
    "line_data = import_line_data.read_data()\n",
    "\n",
    "is_line_1 = line_data['unicode'] == 1\n",
    "line_data_1 = line_data[is_line_1]\n",
    "\n",
    "canvas = create_canvas(line_data_1)\n",
    "canvas.setPixelScale(5)\n",
    "\n",
    "canvas"
   ]
  },
  {
   "cell_type": "markdown",
   "metadata": {},
   "source": [
    "Drawing lines\n"
   ]
  },
  {
   "cell_type": "code",
   "execution_count": null,
   "metadata": {
    "pycharm": {
     "name": "#%%\n"
    }
   },
   "outputs": [],
   "source": []
  }
 ],
 "metadata": {
  "kernelspec": {
   "display_name": "Python 3",
   "language": "python",
   "name": "python3"
  },
  "language_info": {
   "codemirror_mode": {
    "name": "ipython",
    "version": 3
   },
   "file_extension": ".py",
   "mimetype": "text/x-python",
   "name": "python",
   "nbconvert_exporter": "python",
   "pygments_lexer": "ipython3",
   "version": "3.6.8"
  }
 },
 "nbformat": 4,
 "nbformat_minor": 1
}