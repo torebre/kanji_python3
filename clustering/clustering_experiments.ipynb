{
 "cells": [
  {
   "cell_type": "code",
   "execution_count": 3,
   "metadata": {},
   "outputs": [
    {
     "data": {
      "text/plain": "<drawSvg.drawing.Drawing at 0x7f4049fc8940>",
      "image/svg+xml": "<?xml version=\"1.0\" encoding=\"UTF-8\"?>\n<svg xmlns=\"http://www.w3.org/2000/svg\" xmlns:xlink=\"http://www.w3.org/1999/xlink\"\n     width=\"285\" height=\"290\" viewBox=\"0 -58 57 58\">\n<defs>\n</defs>\n<path d=\"M13,-51 L23,-22\" stroke=\"white\" />\n<path d=\"M18,-3 L38,-24\" stroke=\"white\" />\n<path d=\"M49,-2 L38,-18\" stroke=\"white\" />\n<path d=\"M48,-10 L33,-22\" stroke=\"white\" />\n<path d=\"M46,-20 L16,-32\" stroke=\"white\" />\n<path d=\"M58,-17 L16,-30\" stroke=\"white\" />\n<path d=\"M61,-49 L49,-10\" stroke=\"white\" />\n<path d=\"M17,-42 L20,-60\" stroke=\"white\" />\n<path d=\"M62,-19 L62,-5\" stroke=\"white\" />\n<path d=\"M18,-58 L7,-46\" stroke=\"white\" />\n<path d=\"M5,-28 L17,-28\" stroke=\"white\" />\n<path d=\"M5,-28 L5,-53\" stroke=\"white\" />\n<path d=\"M5,-53 L17,-53\" stroke=\"white\" />\n<path d=\"M17,-53 L17,-28\" stroke=\"white\" />\n</svg>"
     },
     "execution_count": 3,
     "metadata": {},
     "output_type": "execute_result"
    }
   ],
   "source": [
    "from import_data import import_line_data\n",
    "from visualize.create_line_svg import create_canvas\n",
    "\n",
    "line_data = import_line_data.read_data()\n",
    "\n",
    "line_code = 89\n",
    "\n",
    "is_line_1 = line_data['unicode'] == line_code\n",
    "line_data_1 = line_data[is_line_1]\n",
    "\n",
    "canvas = create_canvas(line_data_1)\n",
    "canvas.setPixelScale(5)\n",
    "\n",
    "canvas"
   ]
  },
  {
   "cell_type": "markdown",
   "metadata": {},
   "source": [
    "Drawing lines\n"
   ]
  },
  {
   "cell_type": "code",
   "execution_count": 4,
   "metadata": {
    "pycharm": {
     "name": "#%%\n"
    }
   },
   "outputs": [
    {
     "data": {
      "text/plain": "array([[nan,  0., nan,  0.],\n       [ 2., nan,  2., nan],\n       [nan,  0., nan,  0.],\n       [ 2.,  4.,  2., nan]])"
     },
     "execution_count": 4,
     "metadata": {},
     "output_type": "execute_result"
    }
   ],
   "source": [
    "import numpy as np\n",
    "from import_data.import_data import filter_out_four_last_lines_of_data, transform_selected_lines_to_array, read_relation_data\n",
    "from clustering.dbscan_clustering_test import extract_line_code_map_from_array, \\\n",
    "    extract_rectangle_relation_data_for_line_code, do_dbscan, add_label_data_to_line_code_map\n",
    "\n",
    "line_relation_data = read_relation_data()\n",
    "\n",
    "# The last four lines are the ones that make up a rectangle\n",
    "last_four_lines = filter_out_four_last_lines_of_data(line_relation_data)\n",
    "\n",
    "array_data = transform_selected_lines_to_array(line_relation_data, last_four_lines)\n",
    "line_code_line_id_relation_data_map = extract_line_code_map_from_array(array_data)\n",
    "\n",
    "data_used_for_clustering = array_data[:, 5]\n",
    "dbscan_data = do_dbscan(np.reshape(data_used_for_clustering, (-1, 1)))\n",
    "add_label_data_to_line_code_map(dbscan_data.labels_, array_data, line_code_line_id_relation_data_map)\n",
    "\n",
    "extract_rectangle_relation_data_for_line_code(line_code, line_code_line_id_relation_data_map, last_four_lines)"
   ]
  }
 ],
 "metadata": {
  "kernelspec": {
   "display_name": "Python 3",
   "language": "python",
   "name": "python3"
  },
  "language_info": {
   "codemirror_mode": {
    "name": "ipython",
    "version": 3
   },
   "file_extension": ".py",
   "mimetype": "text/x-python",
   "name": "python",
   "nbconvert_exporter": "python",
   "pygments_lexer": "ipython3",
   "version": "3.6.8"
  }
 },
 "nbformat": 4,
 "nbformat_minor": 1
}